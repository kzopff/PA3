{
 "cells": [
  {
   "cell_type": "markdown",
   "metadata": {},
   "source": [
    "A) Area and Perimeter of Triangles"
   ]
  },
  {
   "cell_type": "code",
   "execution_count": 24,
   "metadata": {},
   "outputs": [],
   "source": [
    "def calcArea(x = 1,y = 1,z = 1):\n",
    "    S = (x+y+z)/2\n",
    "    a = (S*(S-x)*(S-y)*(S-z))**0.5\n",
    "    print(\"The area of the triangle is approximately\", a, \"square units.\")\n",
    "    return \n",
    "def calcPerimeter(x = 1,y = 1,z = 1):\n",
    "    p = x+y+z\n",
    "    print(\"The perimeter of the triangle is\", p, \"linear units.\")\n",
    "    return "
   ]
  },
  {
   "cell_type": "code",
   "execution_count": 76,
   "metadata": {},
   "outputs": [
    {
     "name": "stdout",
     "output_type": "stream",
     "text": [
      "Enter the length of side A: 5\n",
      "Enter the length of side B: 7\n",
      "Enter the length of side C: 8\n",
      "The area of the triangle is approximately 17.320508075688775 square units.\n",
      "The perimeter of the triangle is 20 linear units.\n"
     ]
    }
   ],
   "source": [
    "A = int(input(\"Enter the length of side A: \"))\n",
    "B = int(input(\"Enter the length of side B: \"))\n",
    "C = int(input(\"Enter the length of side C: \"))\n",
    "calcArea(A, B, C)\n",
    "calcPerimeter(A, B, C)"
   ]
  },
  {
   "cell_type": "code",
   "execution_count": 26,
   "metadata": {},
   "outputs": [
    {
     "name": "stdout",
     "output_type": "stream",
     "text": [
      "The area of the triangle is approximately 0.4330127018922193 square units.\n",
      "The perimeter of the triangle is 3 linear units.\n"
     ]
    }
   ],
   "source": [
    "area = calcArea()\n",
    "perimeter = calcPerimeter()"
   ]
  },
  {
   "cell_type": "markdown",
   "metadata": {},
   "source": [
    "B) Guess the Number"
   ]
  },
  {
   "cell_type": "code",
   "execution_count": 56,
   "metadata": {},
   "outputs": [],
   "source": [
    "def evaluateGuess(guess,random_int):\n",
    "    while guess != random_int:\n",
    "        if  guess > random_int:\n",
    "            print(\"Too high! Guess again.\")\n",
    "        if guess < random_int:\n",
    "            print(\"Too low! Guess again.\")\n",
    "        guess = int(input(\"Enter your guess: \"))\n",
    "    if guess == random_int:\n",
    "        print(\"Correct!\")\n",
    "    return"
   ]
  },
  {
   "cell_type": "code",
   "execution_count": 75,
   "metadata": {},
   "outputs": [
    {
     "name": "stdout",
     "output_type": "stream",
     "text": [
      "Enter your guess: 500\n",
      "Too high! Guess again.\n",
      "Enter your guess: 250\n",
      "Too low! Guess again.\n",
      "Enter your guess: 400\n",
      "Too high! Guess again.\n",
      "Enter your guess: 300\n",
      "Too high! Guess again.\n",
      "Enter your guess: 275\n",
      "Too low! Guess again.\n",
      "Enter your guess: 285\n",
      "Too high! Guess again.\n",
      "Enter your guess: 280\n",
      "Too low! Guess again.\n",
      "Enter your guess: 283\n",
      "Too high! Guess again.\n",
      "Enter your guess: 282\n",
      "Too high! Guess again.\n",
      "Enter your guess: 281\n",
      "Correct!\n"
     ]
    }
   ],
   "source": [
    "import random\n",
    "r = random.randint(1,1000)\n",
    "x = int(input(\"Enter your guess: \"))\n",
    "evaluateGuess(x,r)"
   ]
  },
  {
   "cell_type": "markdown",
   "metadata": {},
   "source": [
    "C) Mean Temperatures"
   ]
  },
  {
   "cell_type": "code",
   "execution_count": 72,
   "metadata": {},
   "outputs": [],
   "source": [
    "def meanTemp(temps, days):\n",
    "    total = 0\n",
    "    for i in range(0, days):\n",
    "        total = total + temps[i]\n",
    "    m = total/days\n",
    "    print(\"The mean Temperature for the past\", days, \"days is\", round(m,2), \"degrees F.\")\n",
    "    return"
   ]
  },
  {
   "cell_type": "code",
   "execution_count": 73,
   "metadata": {},
   "outputs": [
    {
     "name": "stdout",
     "output_type": "stream",
     "text": [
      "The mean Temperature for the past 7 days is 88.43 degrees F.\n",
      "The mean Temperature for the past 5 days is 87.2 degrees F.\n",
      "The mean Temperature for the past 2 days is 92.5 degrees F.\n"
     ]
    }
   ],
   "source": [
    "Temperatures = (90, 95, 88, 76, 87, 93, 90)\n",
    "meanTemp(Temperatures, 7)\n",
    "meanTemp(Temperatures, 5)\n",
    "meanTemp(Temperatures, 2)"
   ]
  }
 ],
 "metadata": {
  "kernelspec": {
   "display_name": "Python 3",
   "language": "python",
   "name": "python3"
  },
  "language_info": {
   "codemirror_mode": {
    "name": "ipython",
    "version": 3
   },
   "file_extension": ".py",
   "mimetype": "text/x-python",
   "name": "python",
   "nbconvert_exporter": "python",
   "pygments_lexer": "ipython3",
   "version": "3.8.3"
  }
 },
 "nbformat": 4,
 "nbformat_minor": 4
}
